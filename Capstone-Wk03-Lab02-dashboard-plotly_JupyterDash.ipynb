{
 "cells": [
  {
   "cell_type": "code",
   "execution_count": 1,
   "id": "d87d586a",
   "metadata": {},
   "outputs": [
    {
     "name": "stderr",
     "output_type": "stream",
     "text": [
      "C:\\Users\\ramakant.raju\\AppData\\Local\\Temp\\ipykernel_10628\\1367057610.py:6: UserWarning: \n",
      "The dash_html_components package is deprecated. Please replace\n",
      "`import dash_html_components as html` with `from dash import html`\n",
      "  import dash_html_components as html\n",
      "C:\\Users\\ramakant.raju\\AppData\\Local\\Temp\\ipykernel_10628\\1367057610.py:7: UserWarning: \n",
      "The dash_core_components package is deprecated. Please replace\n",
      "`import dash_core_components as dcc` with `from dash import dcc`\n",
      "  import dash_core_components as dcc\n"
     ]
    }
   ],
   "source": [
    "# Import required libraries\n",
    "import pandas as pd\n",
    "import plotly.express as px\n",
    "from jupyter_dash import JupyterDash\n",
    "import dash\n",
    "import dash_html_components as html\n",
    "import dash_core_components as dcc\n",
    "from dash.dependencies import Input, Output\n",
    "import plotly.express as px"
   ]
  },
  {
   "cell_type": "code",
   "execution_count": 2,
   "id": "07885094",
   "metadata": {},
   "outputs": [],
   "source": [
    "# Read the airline data into pandas dataframe\n",
    "spacex_df = pd.read_csv(\"spacex_launch_dash.csv\")\n",
    "max_payload = spacex_df['Payload Mass (kg)'].max()\n",
    "min_payload = spacex_df['Payload Mass (kg)'].min()"
   ]
  },
  {
   "cell_type": "code",
   "execution_count": 37,
   "id": "27c7a808",
   "metadata": {},
   "outputs": [
    {
     "name": "stdout",
     "output_type": "stream",
     "text": [
      "Dash app running on http://127.0.0.1:8050/\n"
     ]
    }
   ],
   "source": [
    "# Create a dash application\n",
    "app = JupyterDash(__name__)\n",
    "\n",
    "# Create an app layout\n",
    "app.layout = html.Div(children=[html.H1('SpaceX Launch Records Dashboard 115',\n",
    "                                        style={'textAlign': 'center', 'color': '#503D36',\n",
    "                                               'font-size': 40}),\n",
    "                                # TASK 1: Add a dropdown list to enable Launch Site selection\n",
    "                                # The default select value is for ALL sites\n",
    "                                # dcc.Dropdown(id='site-dropdown',...)\n",
    "                                # Function decorator to specify function input and output\n",
    "                                html.Div([\n",
    "                                    dcc.Dropdown(id='site-dropdown',\n",
    "                                                options=[\n",
    "                                                    {'label': x, 'value': x} for x in spacex_df[\"Launch Site\"].unique()\n",
    "                                                ]+\n",
    "                                                 [{'label': 'All Sites', 'value': 'ALL'}],\n",
    "                                                value='ALL',\n",
    "                                                placeholder=\"Select a Launch Site\",\n",
    "                                                searchable=True\n",
    "                                                )\n",
    "                                        ]),\n",
    "                                html.Br(),\n",
    "                                html.H1(children = 'Pie chart app',\n",
    "                                        style = {'textAlign': 'centre',\n",
    "                                                 'color': '#503D36',\n",
    "                                                'font-size': '14',\n",
    "                                                }\n",
    "                                        ),\n",
    "                                # TASK 2: Add a pie chart to show the total successful launches count for all sites\n",
    "                                # If a specific launch site was selected, show the Success vs. Failed counts for the site\n",
    "                                html.Div(dcc.Graph(id='success-pie-chart')),\n",
    "                                html.Br(),\n",
    "\n",
    "                                html.P(\"Payload range (Kg):\"),\n",
    "                                # TASK 3: Add a slider to select payload range\n",
    "                                #dcc.RangeSlider(id='payload-slider',...)\n",
    "                                html.Div([\n",
    "                                    dcc.RangeSlider(id='payload-slider',\n",
    "                                                min=0, max=10000, step=1000,\n",
    "                                                value=[100, 5000])\n",
    "                                    ]),\n",
    "                                # TASK 4: Add a scatter chart to show the correlation between payload and launch success\n",
    "                                html.Div(dcc.Graph(id='success-payload-scatter-chart')),\n",
    "                                ])\n",
    "\n",
    "# TASK 2:\n",
    "# Add a callback function for `site-dropdown` as input, `success-pie-chart` as output\n",
    "@app.callback(Output(component_id='success-pie-chart', component_property='figure'),\n",
    "              Input(component_id='site-dropdown', component_property='value'))\n",
    "def get_pie_chart(entered_site):\n",
    "    if entered_site == 'ALL':\n",
    "        filtered_df = spacex_df[spacex_df[\"class\"]==1]\n",
    "        filtered_df = filtered_df.groupby(\"Launch Site\").count().reset_index()\n",
    "        fig = px.pie(filtered_df, \n",
    "                     values='Flight Number', \n",
    "                     names='Launch Site', \n",
    "                     title='All Launch sites')\n",
    "        return fig\n",
    "    else:\n",
    "# return the outcomes piechart for a selected site\n",
    "        filtered_df = spacex_df[spacex_df[\"Launch Site\"]==entered_site]\n",
    "        filtered_df = filtered_df.groupby(\"class\").count().reset_index()\n",
    "        fig = px.pie(filtered_df, \n",
    "                     values='Launch Site', \n",
    "                     names='class', \n",
    "                     title=\"Success rate of \" + entered_site)\n",
    "        return fig\n",
    "\n",
    "# TASK 4:\n",
    "# Add a callback function for `site-dropdown` and `payload-slider` as inputs, `success-payload-scatter-chart` as output\n",
    "@app.callback(Output(component_id='success-payload-scatter-chart', component_property='figure'),\n",
    "              Input(component_id=\"payload-slider\", component_property=\"value\"),\n",
    "              Input(component_id='site-dropdown', component_property='value')\n",
    "             )\n",
    "\n",
    "def get_scatter_plot(payload, site):\n",
    "    if site == \"ALL\":\n",
    "        df1 = spacex_df\n",
    "        fig = px.scatter(df1, \n",
    "                            x=\"Payload Mass (kg)\", \n",
    "                            y=\"class\", \n",
    "                            color = \"Booster Version Category\",\n",
    "                            title=\"all Sites\")\n",
    "        fig.update_layout(xaxis_range = payload)\n",
    "        return fig\n",
    "    else:\n",
    "        df1 = spacex_df[spacex_df[\"Launch Site\"]==site]\n",
    "        fig = px.scatter(df1, \n",
    "                            x=\"Payload Mass (kg)\", \n",
    "                            y=\"class\", \n",
    "                            color = \"Booster Version Category\",\n",
    "                            title=\"Scatter plot for \" + site)\n",
    "        fig.update_layout(xaxis_range = payload)\n",
    "        return fig\n",
    "# Run the app\n",
    "if __name__ == '__main__':\n",
    "    app.run_server(mode = \"external\")"
   ]
  }
 ],
 "metadata": {
  "kernelspec": {
   "display_name": "Python 3 (ipykernel)",
   "language": "python",
   "name": "python3"
  },
  "language_info": {
   "codemirror_mode": {
    "name": "ipython",
    "version": 3
   },
   "file_extension": ".py",
   "mimetype": "text/x-python",
   "name": "python",
   "nbconvert_exporter": "python",
   "pygments_lexer": "ipython3",
   "version": "3.9.12"
  }
 },
 "nbformat": 4,
 "nbformat_minor": 5
}
